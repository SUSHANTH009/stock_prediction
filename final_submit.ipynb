{
 "cells": [
  {
   "cell_type": "markdown",
   "metadata": {},
   "source": [
    "## Importing libraries"
   ]
  },
  {
   "cell_type": "code",
   "execution_count": 1,
   "id": "46858071-cddd-4b92-8a2f-c5daabfbb3a8",
   "metadata": {},
   "outputs": [],
   "source": [
    "import warnings\n",
    "warnings.filterwarnings('ignore')\n",
    "\n",
    "import pandas as pd\n",
    "import talib\n",
    "import numpy as np\n",
    "import seaborn as sns\n",
    "import lightgbm as lgb\n",
    "import matplotlib.pyplot as plt\n",
    "import xgboost as xgb\n",
    "\n",
    "from xgboost import XGBClassifier\n",
    "from sklearn.ensemble import RandomForestClassifier\n",
    "from sklearn.model_selection import train_test_split\n",
    "from sklearn.metrics import accuracy_score,confusion_matrix, classification_report"
   ]
  },
  {
   "cell_type": "markdown",
   "id": "e2c2d5a0-3fdb-4023-ac95-a771e3366187",
   "metadata": {},
   "source": [
    "## Importing Data and Data preprocessing "
   ]
  },
  {
   "cell_type": "code",
   "execution_count": 2,
   "id": "366d98e8-fa63-40af-84c8-51ad63cb44b5",
   "metadata": {},
   "outputs": [
    {
     "data": {
      "text/html": [
       "<div>\n",
       "<style scoped>\n",
       "    .dataframe tbody tr th:only-of-type {\n",
       "        vertical-align: middle;\n",
       "    }\n",
       "\n",
       "    .dataframe tbody tr th {\n",
       "        vertical-align: top;\n",
       "    }\n",
       "\n",
       "    .dataframe thead th {\n",
       "        text-align: right;\n",
       "    }\n",
       "</style>\n",
       "<table border=\"1\" class=\"dataframe\">\n",
       "  <thead>\n",
       "    <tr style=\"text-align: right;\">\n",
       "      <th></th>\n",
       "      <th>mic</th>\n",
       "      <th>symbol</th>\n",
       "      <th>isin</th>\n",
       "      <th>date</th>\n",
       "      <th>open_value</th>\n",
       "      <th>high_value</th>\n",
       "      <th>low_value</th>\n",
       "      <th>last_value</th>\n",
       "      <th>change_prev_close_percentage</th>\n",
       "      <th>turnover</th>\n",
       "    </tr>\n",
       "  </thead>\n",
       "  <tbody>\n",
       "    <tr>\n",
       "      <th>0</th>\n",
       "      <td>XZAG</td>\n",
       "      <td>CBX</td>\n",
       "      <td>HRZB00ICBEX6</td>\n",
       "      <td>2015-12-30</td>\n",
       "      <td>1689.22</td>\n",
       "      <td>1689.71</td>\n",
       "      <td>1673.62</td>\n",
       "      <td>1689.63</td>\n",
       "      <td>-0.02</td>\n",
       "      <td>2017520.82</td>\n",
       "    </tr>\n",
       "    <tr>\n",
       "      <th>1</th>\n",
       "      <td>XZAG</td>\n",
       "      <td>CBX</td>\n",
       "      <td>HRZB00ICBEX6</td>\n",
       "      <td>2015-12-29</td>\n",
       "      <td>1675.79</td>\n",
       "      <td>1691.02</td>\n",
       "      <td>1673.37</td>\n",
       "      <td>1689.94</td>\n",
       "      <td>0.84</td>\n",
       "      <td>1094356.06</td>\n",
       "    </tr>\n",
       "    <tr>\n",
       "      <th>2</th>\n",
       "      <td>XZAG</td>\n",
       "      <td>CBX</td>\n",
       "      <td>HRZB00ICBEX6</td>\n",
       "      <td>2015-12-28</td>\n",
       "      <td>1655.92</td>\n",
       "      <td>1677.17</td>\n",
       "      <td>1652.76</td>\n",
       "      <td>1675.88</td>\n",
       "      <td>1.21</td>\n",
       "      <td>1125687.29</td>\n",
       "    </tr>\n",
       "    <tr>\n",
       "      <th>3</th>\n",
       "      <td>XZAG</td>\n",
       "      <td>CBX</td>\n",
       "      <td>HRZB00ICBEX6</td>\n",
       "      <td>2015-12-23</td>\n",
       "      <td>1647.66</td>\n",
       "      <td>1655.77</td>\n",
       "      <td>1641.41</td>\n",
       "      <td>1655.77</td>\n",
       "      <td>0.49</td>\n",
       "      <td>592284.75</td>\n",
       "    </tr>\n",
       "    <tr>\n",
       "      <th>4</th>\n",
       "      <td>XZAG</td>\n",
       "      <td>CBX</td>\n",
       "      <td>HRZB00ICBEX6</td>\n",
       "      <td>2015-12-22</td>\n",
       "      <td>1655.71</td>\n",
       "      <td>1655.71</td>\n",
       "      <td>1642.60</td>\n",
       "      <td>1647.67</td>\n",
       "      <td>-0.55</td>\n",
       "      <td>2714509.05</td>\n",
       "    </tr>\n",
       "  </tbody>\n",
       "</table>\n",
       "</div>"
      ],
      "text/plain": [
       "    mic symbol          isin        date  open_value  high_value  low_value  \\\n",
       "0  XZAG    CBX  HRZB00ICBEX6  2015-12-30     1689.22     1689.71    1673.62   \n",
       "1  XZAG    CBX  HRZB00ICBEX6  2015-12-29     1675.79     1691.02    1673.37   \n",
       "2  XZAG    CBX  HRZB00ICBEX6  2015-12-28     1655.92     1677.17    1652.76   \n",
       "3  XZAG    CBX  HRZB00ICBEX6  2015-12-23     1647.66     1655.77    1641.41   \n",
       "4  XZAG    CBX  HRZB00ICBEX6  2015-12-22     1655.71     1655.71    1642.60   \n",
       "\n",
       "   last_value  change_prev_close_percentage    turnover  \n",
       "0     1689.63                         -0.02  2017520.82  \n",
       "1     1689.94                          0.84  1094356.06  \n",
       "2     1675.88                          1.21  1125687.29  \n",
       "3     1655.77                          0.49   592284.75  \n",
       "4     1647.67                         -0.55  2714509.05  "
      ]
     },
     "execution_count": 2,
     "metadata": {},
     "output_type": "execute_result"
    }
   ],
   "source": [
    "df = pd.read_csv('downloads/data.csv')\n",
    "df.head(5)"
   ]
  },
  {
   "cell_type": "code",
   "execution_count": 3,
   "id": "147cb23b-aac4-4bbe-9a6f-9e1c9d317de5",
   "metadata": {},
   "outputs": [],
   "source": [
    "#drop columns which are not required\n",
    "df.drop(columns=['mic','symbol','isin','open_value','change_prev_close_percentage','turnover'],inplace=True)\n",
    "#reverse all the rows\n",
    "df = df[::-1]\n",
    "#convert data column into datetime object\n",
    "df['date'] = pd.to_datetime(df['date'])\n",
    "#drop rows with null values\n",
    "df = df.dropna()\n",
    "#change column name \n",
    "df = df.rename(columns={'last_value':'close','high_value':'high','low_value':'low'})"
   ]
  },
  {
   "cell_type": "code",
   "execution_count": 4,
   "id": "fbee4f08-0ff4-42bd-a097-bd297f15ae8a",
   "metadata": {},
   "outputs": [],
   "source": [
    "def feature_construction(df):\n",
    "    \n",
    "    df['SMA5'] = talib.SMA(df['close'],timeperiod=5)\n",
    "    df['SMA10'] = talib.SMA(df['close'],timeperiod=10)\n",
    "    df['wma5']  = talib.WMA(df['close'],timeperiod=5)\n",
    "    df['wma10'] = talib.WMA(df['close'],timeperiod=10)\n",
    "    df['macd'],macd_signal,macd_hist =  talib.MACD(df['close'],fastperiod=12,slowperiod=6)\n",
    "    df['cci'] = talib.CCI(df['high'],df['low'],df['close'],timeperiod=20)\n",
    "    df['disparity5'] = df['close'] / talib.SMA(df['close'], timeperiod=5)\n",
    "    df['disparity10'] = df['close'] / talib.SMA(df['close'], timeperiod=10)\n",
    "    df['roc'] = talib.ROC(df['close'],timeperiod=10)\n",
    "    df['rsi'] = talib.RSI(df['close'],timeperiod=14)\n",
    "    df['momentum'] = talib.MOM(df['close'],timeperiod=10)\n",
    "    df['ppo'] = talib.PPO(df['close'],fastperiod=5,slowperiod=10)\n",
    "    df['std'] = talib.STDDEV(df['close'],timeperiod=5)\n",
    "    df['stoch_k'] = ((df['close'] - talib.MIN(df['low'], timeperiod=14)) / (talib.MAX(df['high'], timeperiod=14) - talib.MIN(df['low'], timeperiod=14))) * 100\n",
    "    df['stoch_d'] = talib.SMA(df['stoch_k'], timeperiod=3)\n",
    "    \n",
    "    df = df.dropna()\n",
    "    return df\n"
   ]
  },
  {
   "cell_type": "code",
   "execution_count": 5,
   "id": "de21ad73-9ee0-4e61-bd41-f4be6418e754",
   "metadata": {},
   "outputs": [
    {
     "data": {
      "text/html": [
       "<div>\n",
       "<style scoped>\n",
       "    .dataframe tbody tr th:only-of-type {\n",
       "        vertical-align: middle;\n",
       "    }\n",
       "\n",
       "    .dataframe tbody tr th {\n",
       "        vertical-align: top;\n",
       "    }\n",
       "\n",
       "    .dataframe thead th {\n",
       "        text-align: right;\n",
       "    }\n",
       "</style>\n",
       "<table border=\"1\" class=\"dataframe\">\n",
       "  <thead>\n",
       "    <tr style=\"text-align: right;\">\n",
       "      <th></th>\n",
       "      <th>date</th>\n",
       "      <th>high</th>\n",
       "      <th>low</th>\n",
       "      <th>close</th>\n",
       "      <th>SMA5</th>\n",
       "      <th>SMA10</th>\n",
       "      <th>wma5</th>\n",
       "      <th>wma10</th>\n",
       "      <th>macd</th>\n",
       "      <th>cci</th>\n",
       "      <th>...</th>\n",
       "      <th>disparity10</th>\n",
       "      <th>roc</th>\n",
       "      <th>rsi</th>\n",
       "      <th>momentum</th>\n",
       "      <th>ppo</th>\n",
       "      <th>std</th>\n",
       "      <th>stoch_k</th>\n",
       "      <th>stoch_d</th>\n",
       "      <th>5_days_ahead_direction</th>\n",
       "      <th>10_days_ahead_direction</th>\n",
       "    </tr>\n",
       "  </thead>\n",
       "  <tbody>\n",
       "    <tr>\n",
       "      <th>1478</th>\n",
       "      <td>2010-02-01</td>\n",
       "      <td>2201.41</td>\n",
       "      <td>2186.13</td>\n",
       "      <td>2194.75</td>\n",
       "      <td>2192.798</td>\n",
       "      <td>2175.578</td>\n",
       "      <td>2196.316000</td>\n",
       "      <td>2183.601818</td>\n",
       "      <td>21.908122</td>\n",
       "      <td>95.898027</td>\n",
       "      <td>...</td>\n",
       "      <td>1.008812</td>\n",
       "      <td>1.705793</td>\n",
       "      <td>80.389223</td>\n",
       "      <td>36.81</td>\n",
       "      <td>0.791514</td>\n",
       "      <td>11.426018</td>\n",
       "      <td>78.483908</td>\n",
       "      <td>82.308850</td>\n",
       "      <td>0</td>\n",
       "      <td>0</td>\n",
       "    </tr>\n",
       "    <tr>\n",
       "      <th>1477</th>\n",
       "      <td>2010-02-02</td>\n",
       "      <td>2199.24</td>\n",
       "      <td>2183.78</td>\n",
       "      <td>2193.14</td>\n",
       "      <td>2197.286</td>\n",
       "      <td>2179.370</td>\n",
       "      <td>2196.430000</td>\n",
       "      <td>2186.794909</td>\n",
       "      <td>19.298392</td>\n",
       "      <td>90.195090</td>\n",
       "      <td>...</td>\n",
       "      <td>1.006318</td>\n",
       "      <td>1.759449</td>\n",
       "      <td>79.698471</td>\n",
       "      <td>37.92</td>\n",
       "      <td>0.822072</td>\n",
       "      <td>3.573629</td>\n",
       "      <td>72.861443</td>\n",
       "      <td>79.106713</td>\n",
       "      <td>0</td>\n",
       "      <td>0</td>\n",
       "    </tr>\n",
       "    <tr>\n",
       "      <th>1476</th>\n",
       "      <td>2010-02-03</td>\n",
       "      <td>2220.65</td>\n",
       "      <td>2197.51</td>\n",
       "      <td>2212.18</td>\n",
       "      <td>2199.976</td>\n",
       "      <td>2183.719</td>\n",
       "      <td>2201.394667</td>\n",
       "      <td>2192.760364</td>\n",
       "      <td>19.383570</td>\n",
       "      <td>121.226434</td>\n",
       "      <td>...</td>\n",
       "      <td>1.013033</td>\n",
       "      <td>2.005358</td>\n",
       "      <td>81.700993</td>\n",
       "      <td>43.49</td>\n",
       "      <td>0.744464</td>\n",
       "      <td>7.034482</td>\n",
       "      <td>91.348675</td>\n",
       "      <td>80.898008</td>\n",
       "      <td>0</td>\n",
       "      <td>0</td>\n",
       "    </tr>\n",
       "    <tr>\n",
       "      <th>1475</th>\n",
       "      <td>2010-02-04</td>\n",
       "      <td>2217.05</td>\n",
       "      <td>2178.55</td>\n",
       "      <td>2178.55</td>\n",
       "      <td>2196.404</td>\n",
       "      <td>2184.421</td>\n",
       "      <td>2194.252667</td>\n",
       "      <td>2191.820545</td>\n",
       "      <td>14.148302</td>\n",
       "      <td>77.714733</td>\n",
       "      <td>...</td>\n",
       "      <td>0.997312</td>\n",
       "      <td>0.323274</td>\n",
       "      <td>68.793534</td>\n",
       "      <td>7.02</td>\n",
       "      <td>0.548566</td>\n",
       "      <td>11.224802</td>\n",
       "      <td>58.695019</td>\n",
       "      <td>74.301712</td>\n",
       "      <td>0</td>\n",
       "      <td>0</td>\n",
       "    </tr>\n",
       "    <tr>\n",
       "      <th>1474</th>\n",
       "      <td>2010-02-05</td>\n",
       "      <td>2178.54</td>\n",
       "      <td>2134.31</td>\n",
       "      <td>2150.32</td>\n",
       "      <td>2185.788</td>\n",
       "      <td>2183.900</td>\n",
       "      <td>2178.891333</td>\n",
       "      <td>2185.620364</td>\n",
       "      <td>6.639588</td>\n",
       "      <td>-19.645946</td>\n",
       "      <td>...</td>\n",
       "      <td>0.984624</td>\n",
       "      <td>-0.241704</td>\n",
       "      <td>60.196419</td>\n",
       "      <td>-5.21</td>\n",
       "      <td>0.086451</td>\n",
       "      <td>20.694321</td>\n",
       "      <td>31.284591</td>\n",
       "      <td>60.442761</td>\n",
       "      <td>0</td>\n",
       "      <td>1</td>\n",
       "    </tr>\n",
       "  </tbody>\n",
       "</table>\n",
       "<p>5 rows × 21 columns</p>\n",
       "</div>"
      ],
      "text/plain": [
       "           date     high      low    close      SMA5     SMA10         wma5  \\\n",
       "1478 2010-02-01  2201.41  2186.13  2194.75  2192.798  2175.578  2196.316000   \n",
       "1477 2010-02-02  2199.24  2183.78  2193.14  2197.286  2179.370  2196.430000   \n",
       "1476 2010-02-03  2220.65  2197.51  2212.18  2199.976  2183.719  2201.394667   \n",
       "1475 2010-02-04  2217.05  2178.55  2178.55  2196.404  2184.421  2194.252667   \n",
       "1474 2010-02-05  2178.54  2134.31  2150.32  2185.788  2183.900  2178.891333   \n",
       "\n",
       "            wma10       macd         cci  ...  disparity10       roc  \\\n",
       "1478  2183.601818  21.908122   95.898027  ...     1.008812  1.705793   \n",
       "1477  2186.794909  19.298392   90.195090  ...     1.006318  1.759449   \n",
       "1476  2192.760364  19.383570  121.226434  ...     1.013033  2.005358   \n",
       "1475  2191.820545  14.148302   77.714733  ...     0.997312  0.323274   \n",
       "1474  2185.620364   6.639588  -19.645946  ...     0.984624 -0.241704   \n",
       "\n",
       "            rsi  momentum       ppo        std    stoch_k    stoch_d  \\\n",
       "1478  80.389223     36.81  0.791514  11.426018  78.483908  82.308850   \n",
       "1477  79.698471     37.92  0.822072   3.573629  72.861443  79.106713   \n",
       "1476  81.700993     43.49  0.744464   7.034482  91.348675  80.898008   \n",
       "1475  68.793534      7.02  0.548566  11.224802  58.695019  74.301712   \n",
       "1474  60.196419     -5.21  0.086451  20.694321  31.284591  60.442761   \n",
       "\n",
       "      5_days_ahead_direction  10_days_ahead_direction  \n",
       "1478                       0                        0  \n",
       "1477                       0                        0  \n",
       "1476                       0                        0  \n",
       "1475                       0                        0  \n",
       "1474                       0                        1  \n",
       "\n",
       "[5 rows x 21 columns]"
      ]
     },
     "execution_count": 5,
     "metadata": {},
     "output_type": "execute_result"
    }
   ],
   "source": [
    "df_feature_constructed = feature_construction(df)\n",
    "\n",
    "# Create a column for 5-days-ahead direction\n",
    "df_feature_constructed['5_days_ahead_direction'] = np.where(df_feature_constructed['close'].shift(-5) > df_feature_constructed['close'], 1, 0)\n",
    "\n",
    "# Create a column for 10-days-ahead direction\n",
    "df_feature_constructed['10_days_ahead_direction'] = np.where(df_feature_constructed['close'].shift(-10) > df_feature_constructed['close'], 1, 0)\n",
    "\n",
    "# Drop rows with NaN values in the new columns\n",
    "df_feature_constructed = df_feature_constructed.iloc[:-10]\n",
    "\n",
    "# df_feature_constructed = df_feature_constructed.set_index('date')\n",
    "df_feature_constructed.head(5)"
   ]
  },
  {
   "cell_type": "code",
   "execution_count": 6,
   "id": "4c28068f-c679-4904-a17a-2ddd2735d43d",
   "metadata": {},
   "outputs": [],
   "source": [
    "y = df_feature_constructed['5_days_ahead_direction']\n",
    "X = df_feature_constructed.iloc[:,[4,5,6,7,8,9,10,11,12,13,14,15,16,17,18]]"
   ]
  },
  {
   "cell_type": "code",
   "execution_count": 7,
   "id": "6b3c0f16-5e12-48fe-abe4-c4568667e444",
   "metadata": {},
   "outputs": [
    {
     "data": {
      "text/plain": [
       "5_days_ahead_direction\n",
       "0    801\n",
       "1    667\n",
       "Name: count, dtype: int64"
      ]
     },
     "execution_count": 7,
     "metadata": {},
     "output_type": "execute_result"
    }
   ],
   "source": [
    "unique_classes = df_feature_constructed['5_days_ahead_direction'].value_counts()\n",
    "unique_classes"
   ]
  },
  {
   "cell_type": "code",
   "execution_count": 8,
   "metadata": {},
   "outputs": [],
   "source": [
    "X_train, X_test, y_train, y_test = train_test_split(X, y, test_size=0.2, random_state=42)"
   ]
  },
  {
   "cell_type": "markdown",
   "metadata": {},
   "source": [
    "## Data Analysis"
   ]
  },
  {
   "cell_type": "code",
   "execution_count": 9,
   "metadata": {},
   "outputs": [
    {
     "data": {
      "image/png": "[encoded data removed]",
      "text/plain": [
       "<Figure size 1000x1000 with 4 Axes>"
      ]
     },
     "metadata": {},
     "output_type": "display_data"
    }
   ],
   "source": [
    "# creating a heat map of the correlation between features\n",
    "cmap = sns.diverging_palette(10, 220, as_cmap=True)\n",
    "\n",
    "sns.clustermap(\n",
    "    df_feature_constructed.corr('spearman'),\n",
    "    center=0,\n",
    "    cmap=cmap,\n",
    "    fmt=\".2f\", \n",
    "    annot_kws={\"size\": 1}, \n",
    "    cbar_kws={\"orientation\": \"vertical\"}\n",
    ")\n",
    "\n",
    "plt.show()"
   ]
  },
  {
   "cell_type": "markdown",
   "id": "10357cac-ab11-4078-aa3e-a63e468202e0",
   "metadata": {},
   "source": [
    "## Model for 5 days ahead direction prediction"
   ]
  },
  {
   "cell_type": "code",
   "execution_count": 10,
   "metadata": {},
   "outputs": [],
   "source": [
    "classifier_names = ['Random Forest', 'XGBoost', 'LightGBM', 'Deep Neural Network']\n",
    "accuracy_scores = []\n",
    "precision_scores = []"
   ]
  },
  {
   "cell_type": "markdown",
   "id": "f85dda0b-b5c9-45df-a99c-285326d41eaf",
   "metadata": {},
   "source": [
    "### Random Forest Classifier"
   ]
  },
  {
   "cell_type": "code",
   "execution_count": 11,
   "id": "7d9d8123-158a-454c-bb92-3b9e678c1b5f",
   "metadata": {},
   "outputs": [],
   "source": [
    "rf_classifier = RandomForestClassifier(n_estimators=200, random_state=42,n_jobs=-1,)\n",
    "rf_classifier.fit(X_train, y_train)\n",
    "predictions = rf_classifier.predict(X_test)"
   ]
  },
  {
   "cell_type": "code",
   "execution_count": 12,
   "metadata": {},
   "outputs": [
    {
     "name": "stdout",
     "output_type": "stream",
     "text": [
      "Confusion Matrix:\n",
      "[[141  36]\n",
      " [ 37  80]]\n",
      "\n",
      "False Positives: 36\n",
      "False Negatives: 37\n",
      "\n",
      "Classification Report:\n",
      "              precision    recall  f1-score   support\n",
      "\n",
      "           0       0.79      0.80      0.79       177\n",
      "           1       0.69      0.68      0.69       117\n",
      "\n",
      "    accuracy                           0.75       294\n",
      "   macro avg       0.74      0.74      0.74       294\n",
      "weighted avg       0.75      0.75      0.75       294\n",
      "\n"
     ]
    }
   ],
   "source": [
    "rf_accuracy = accuracy_score(y_test, predictions)\n",
    "\n",
    "conf_matrix = confusion_matrix(y_test, predictions)\n",
    "\n",
    "tn, fp, fn, tp = conf_matrix.ravel()\n",
    "rf_recall = tp / (tp + fn)\n",
    "\n",
    "# Print the results\n",
    "print(\"Confusion Matrix:\")\n",
    "print(conf_matrix)\n",
    "print(\"\\nFalse Positives:\", fp)\n",
    "print(\"False Negatives:\", fn)\n",
    "\n",
    "accuracy_scores.append(rf_accuracy)\n",
    "precision_scores.append(rf_recall)\n",
    "print(\"\\nClassification Report:\")\n",
    "print(classification_report(y_test, predictions))"
   ]
  },
  {
   "cell_type": "markdown",
   "id": "65db9d7b-40b7-450c-86f9-96fb6379b124",
   "metadata": {},
   "source": [
    "### XGBoost Classifier"
   ]
  },
  {
   "cell_type": "code",
   "execution_count": 13,
   "id": "823ece29-9b77-4bc7-957d-11a880ac9aab",
   "metadata": {},
   "outputs": [],
   "source": [
    "# Create an XGBoost classifier\n",
    "xgb_classifier = XGBClassifier(booster='gbtree',device='gpu',objective='binary:logistic',\n",
    "                                   random_state=42,n_estimators = 800,validate_parameters=True,eta=0.2,max_depth=0)\n",
    "\n",
    "# Train the classifier on the training data\n",
    "xgb_classifier.fit(X_train, y_train)\n",
    "\n",
    "# Make predictions on the test data\n",
    "predictions = xgb_classifier.predict(X_test)"
   ]
  },
  {
   "cell_type": "code",
   "execution_count": 14,
   "metadata": {},
   "outputs": [
    {
     "name": "stdout",
     "output_type": "stream",
     "text": [
      "Confusion Matrix:\n",
      "[[135  42]\n",
      " [ 39  78]]\n",
      "\n",
      "False Positives: 42\n",
      "False Negatives: 39\n",
      "\n",
      "Classification Report:\n",
      "              precision    recall  f1-score   support\n",
      "\n",
      "           0       0.78      0.76      0.77       177\n",
      "           1       0.65      0.67      0.66       117\n",
      "\n",
      "    accuracy                           0.72       294\n",
      "   macro avg       0.71      0.71      0.71       294\n",
      "weighted avg       0.73      0.72      0.73       294\n",
      "\n"
     ]
    }
   ],
   "source": [
    "# Evaluate the accuracy of the model\n",
    "xgb_accuracy = accuracy_score(y_test, predictions)\n",
    "\n",
    "# Assuming 'y_test' is the true labels and 'predictions' are the predicted labels\n",
    "conf_matrix = confusion_matrix(y_test, predictions)\n",
    "\n",
    "# Extract values from the confusion matrix\n",
    "tn, fp, fn, tp = conf_matrix.ravel()\n",
    "\n",
    "# Calculate recall\n",
    "xgb_recall = tp / (tp + fn)\n",
    "\n",
    "# Print the results\n",
    "print(\"Confusion Matrix:\")\n",
    "print(conf_matrix)\n",
    "print(\"\\nFalse Positives:\", fp)\n",
    "print(\"False Negatives:\", fn)\n",
    "\n",
    "accuracy_scores.append(xgb_accuracy)\n",
    "precision_scores.append(xgb_recall)\n",
    "# Additional information using classification report\n",
    "print(\"\\nClassification Report:\")\n",
    "print(classification_report(y_test, predictions))"
   ]
  },
  {
   "cell_type": "code",
   "execution_count": 15,
   "metadata": {},
   "outputs": [
    {
     "data": {
      "image/png": "[encoded data removed]",
      "text/plain": [
       "<Figure size 640x480 with 1 Axes>"
      ]
     },
     "metadata": {},
     "output_type": "display_data"
    }
   ],
   "source": [
    "xgb.plot_importance(xgb_classifier, importance_type='weight', max_num_features=10)\n",
    "plt.show()"
   ]
  },
  {
   "cell_type": "markdown",
   "id": "7eb4506b-5f39-46e7-a891-f9691325aced",
   "metadata": {},
   "source": [
    "### LightGBM classifier"
   ]
  },
  {
   "cell_type": "code",
   "execution_count": 16,
   "id": "4e060a4a-d985-47ed-866e-20f94552852b",
   "metadata": {},
   "outputs": [
    {
     "name": "stdout",
     "output_type": "stream",
     "text": [
      "[LightGBM] [Info] Number of positive: 550, number of negative: 624\n",
      "[LightGBM] [Info] Total Bins 3825\n",
      "[LightGBM] [Info] Number of data points in the train set: 1174, number of used features: 15\n",
      "[LightGBM] [Info] [binary:BoostFromScore]: pavg=0.468484 -> initscore=-0.126232\n",
      "[LightGBM] [Info] Start training from score -0.126232\n"
     ]
    }
   ],
   "source": [
    "# Convert the data to LightGBM Dataset format\n",
    "train_data = lgb.Dataset(X_train, label=y_train)\n",
    "test_data = lgb.Dataset(X_test, label=y_test, reference=train_data)\n",
    "\n",
    "# Set hyperparameters for LightGBM\n",
    "params = {\n",
    "    'objective': 'binary',\n",
    "    'metric': 'binary_error',\n",
    "    'boosting_type': 'gbrt',\n",
    "    'tree_learner':'voting',\n",
    "    'num_leaves': 35,\n",
    "    'learning_rate': 0.2,\n",
    "    'feature_fraction': 0.8,\n",
    "    'seed':'100',\n",
    "    'force_col_wise':'true'\n",
    "}\n",
    "\n",
    "# Train the LightGBM model\n",
    "num_round = 200\n",
    "lgb_model = lgb.train(params, train_data, num_round, valid_sets=[test_data])\n",
    "\n",
    "# Make predictions on the test data\n",
    "predictions = lgb_model.predict(X_test, num_iteration=lgb_model.best_iteration)\n",
    "predictions_binary = (predictions > 0.5).astype(int)"
   ]
  },
  {
   "cell_type": "code",
   "execution_count": 17,
   "metadata": {},
   "outputs": [
    {
     "name": "stdout",
     "output_type": "stream",
     "text": [
      "\n",
      "Confusion Matrix:\n",
      "Confusion Matrix:\n",
      "[[132  45]\n",
      " [ 39  78]]\n",
      "\n",
      "False Positives: 45\n",
      "False Negatives: 39\n",
      "\n",
      "Classification Report:\n",
      "              precision    recall  f1-score   support\n",
      "\n",
      "           0       0.77      0.75      0.76       177\n",
      "           1       0.63      0.67      0.65       117\n",
      "\n",
      "    accuracy                           0.71       294\n",
      "   macro avg       0.70      0.71      0.70       294\n",
      "weighted avg       0.72      0.71      0.72       294\n",
      "\n"
     ]
    }
   ],
   "source": [
    "# Evaluate the accuracy of the model\n",
    "gbm_accuracy = accuracy_score(y_test, predictions_binary)\n",
    "\n",
    "# Print confusion matrix and classification report\n",
    "print(\"\\nConfusion Matrix:\")\n",
    "conf_matrix = confusion_matrix(y_test, predictions_binary)\n",
    "\n",
    "# Extract values from the confusion matrix\n",
    "tn, fp, fn, tp = conf_matrix.ravel()\n",
    "\n",
    "# Calculate recall\n",
    "gbm_recall = tp / (tp + fn)\n",
    "\n",
    "# Print the results\n",
    "print(\"Confusion Matrix:\")\n",
    "print(conf_matrix)\n",
    "print(\"\\nFalse Positives:\", fp)\n",
    "print(\"False Negatives:\", fn)\n",
    "\n",
    "accuracy_scores.append(gbm_accuracy)\n",
    "precision_scores.append(gbm_recall)\n",
    "# Additional information using classification report\n",
    "print(\"\\nClassification Report:\")\n",
    "print(classification_report(y_test, predictions_binary))"
   ]
  },
  {
   "cell_type": "markdown",
   "id": "f4637a48-218c-4bc6-902e-01ff409b2080",
   "metadata": {},
   "source": [
    "### Deep Neural Network"
   ]
  },
  {
   "cell_type": "code",
   "execution_count": 18,
   "id": "0f2c5bee-1022-4bb9-8990-0e76b8dce715",
   "metadata": {
    "scrolled": true
   },
   "outputs": [],
   "source": [
    "#Importing libraries\n",
    "import tensorflow as tf\n",
    "from tensorflow.keras.models import Sequential\n",
    "from tensorflow.keras.layers import Dense"
   ]
  },
  {
   "cell_type": "code",
   "execution_count": 19,
   "metadata": {},
   "outputs": [
    {
     "name": "stderr",
     "output_type": "stream",
     "text": [
      "2023-12-01 07:48:24.145905: I metal_plugin/src/device/metal_device.cc:1154] Metal device set to: Apple M2\n",
      "2023-12-01 07:48:24.145940: I metal_plugin/src/device/metal_device.cc:296] systemMemory: 8.00 GB\n",
      "2023-12-01 07:48:24.145956: I metal_plugin/src/device/metal_device.cc:313] maxCacheSize: 2.67 GB\n",
      "2023-12-01 07:48:24.146083: I tensorflow/core/common_runtime/pluggable_device/pluggable_device_factory.cc:306] Could not identify NUMA node of platform GPU ID 0, defaulting to 0. Your kernel may not have been built with NUMA support.\n",
      "2023-12-01 07:48:24.146161: I tensorflow/core/common_runtime/pluggable_device/pluggable_device_factory.cc:272] Created TensorFlow device (/job:localhost/replica:0/task:0/device:GPU:0 with 0 MB memory) -> physical PluggableDevice (device: 0, name: METAL, pci bus id: <undefined>)\n"
     ]
    },
    {
     "name": "stdout",
     "output_type": "stream",
     "text": [
      "Epoch 1/10\n"
     ]
    },
    {
     "name": "stderr",
     "output_type": "stream",
     "text": [
      "2023-12-01 07:48:25.233284: I tensorflow/core/grappler/optimizers/custom_graph_optimizer_registry.cc:117] Plugin optimizer for device_type GPU is enabled.\n"
     ]
    },
    {
     "name": "stdout",
     "output_type": "stream",
     "text": [
      "33/33 [==============================] - 2s 28ms/step - loss: 114.3013 - accuracy: 0.5066 - val_loss: 14.9051 - val_accuracy: 0.4661\n",
      "Epoch 2/10\n",
      "33/33 [==============================] - 0s 15ms/step - loss: 20.6360 - accuracy: 0.5000 - val_loss: 4.9947 - val_accuracy: 0.4492\n",
      "Epoch 3/10\n",
      "33/33 [==============================] - 1s 16ms/step - loss: 35.1263 - accuracy: 0.4754 - val_loss: 17.0865 - val_accuracy: 0.4661\n",
      "Epoch 4/10\n",
      "33/33 [==============================] - 0s 15ms/step - loss: 23.6908 - accuracy: 0.4991 - val_loss: 11.1668 - val_accuracy: 0.4661\n",
      "Epoch 5/10\n",
      "33/33 [==============================] - 1s 16ms/step - loss: 18.7328 - accuracy: 0.5227 - val_loss: 15.0841 - val_accuracy: 0.5339\n",
      "Epoch 6/10\n",
      "33/33 [==============================] - 0s 14ms/step - loss: 16.7626 - accuracy: 0.4905 - val_loss: 13.0253 - val_accuracy: 0.5339\n",
      "Epoch 7/10\n",
      "33/33 [==============================] - 1s 19ms/step - loss: 23.9181 - accuracy: 0.5199 - val_loss: 59.3216 - val_accuracy: 0.5339\n",
      "Epoch 8/10\n",
      "33/33 [==============================] - 1s 22ms/step - loss: 21.3444 - accuracy: 0.4830 - val_loss: 14.4220 - val_accuracy: 0.4661\n",
      "Epoch 9/10\n",
      "33/33 [==============================] - 1s 21ms/step - loss: 20.5462 - accuracy: 0.5161 - val_loss: 44.9083 - val_accuracy: 0.5339\n",
      "Epoch 10/10\n",
      "33/33 [==============================] - 1s 16ms/step - loss: 24.7607 - accuracy: 0.5133 - val_loss: 3.2840 - val_accuracy: 0.5254\n"
     ]
    },
    {
     "data": {
      "text/plain": [
       "<keras.src.callbacks.History at 0x2a6a06b90>"
      ]
     },
     "execution_count": 19,
     "metadata": {},
     "output_type": "execute_result"
    }
   ],
   "source": [
    "# Create a neural network model\n",
    "model = Sequential()\n",
    "model.add(Dense(64, input_dim=X_train.shape[1], activation='relu'))\n",
    "model.add(Dense(128,activation='relu'))\n",
    "model.add(Dense(128,activation='relu'))\n",
    "model.add(Dense(64,activation='relu'))\n",
    "model.add(Dense(1, activation='sigmoid'))\n",
    "\n",
    "# Compile the model\n",
    "model.compile(optimizer='adam', loss='binary_crossentropy', metrics=['accuracy'])\n",
    "\n",
    "# Train the model on the training data\n",
    "model.fit(X_train, y_train, epochs=10, batch_size=32, validation_split=0.1)"
   ]
  },
  {
   "cell_type": "code",
   "execution_count": 20,
   "metadata": {},
   "outputs": [
    {
     "name": "stdout",
     "output_type": "stream",
     "text": [
      "10/10 [==============================] - 0s 7ms/step\n",
      "\n",
      "Confusion Matrix:\n",
      "Confusion Matrix:\n",
      "[[141  36]\n",
      " [ 97  20]]\n",
      "\n",
      "False Positives: 36\n",
      "False Negatives: 97\n",
      "Recall (Sensitivity): 0.17094017094017094\n",
      "\n",
      "Classification Report:\n",
      "              precision    recall  f1-score   support\n",
      "\n",
      "           0       0.59      0.80      0.68       177\n",
      "           1       0.36      0.17      0.23       117\n",
      "\n",
      "    accuracy                           0.55       294\n",
      "   macro avg       0.47      0.48      0.46       294\n",
      "weighted avg       0.50      0.55      0.50       294\n",
      "\n"
     ]
    }
   ],
   "source": [
    "# Make predictions on the test data\n",
    "predictions = model.predict(X_test)\n",
    "predictions = (predictions > 0.5).astype(int)\n",
    "\n",
    "# Evaluate the accuracy of the model\n",
    "dl_accuracy = accuracy_score(y_test, predictions)\n",
    "\n",
    "# Print confusion matrix and classification report\n",
    "print(\"\\nConfusion Matrix:\")\n",
    "conf_matrix = confusion_matrix(y_test, predictions)\n",
    "\n",
    "tn, fp, fn, tp = conf_matrix.ravel()\n",
    "\n",
    "# Calculate recall\n",
    "dl_recall = tp / (tp + fn)\n",
    "\n",
    "# Print the results\n",
    "print(\"Confusion Matrix:\")\n",
    "print(conf_matrix)\n",
    "print(\"\\nFalse Positives:\", fp)\n",
    "print(\"False Negatives:\", fn)\n",
    "print(\"Recall (Sensitivity):\", dl_recall)\n",
    "\n",
    "accuracy_scores.append(dl_accuracy)\n",
    "precision_scores.append(dl_recall)\n",
    "# Additional information using classification report\n",
    "print(\"\\nClassification Report:\")\n",
    "print(classification_report(y_test, predictions))"
   ]
  },
  {
   "cell_type": "markdown",
   "metadata": {},
   "source": [
    "### Model comparision "
   ]
  },
  {
   "cell_type": "code",
   "execution_count": 21,
   "metadata": {},
   "outputs": [
    {
     "data": {
      "image/png": "[encoded data removed]",
      "text/plain": [
       "<Figure size 1200x600 with 1 Axes>"
      ]
     },
     "metadata": {},
     "output_type": "display_data"
    }
   ],
   "source": [
    "sns.set(style=\"whitegrid\")\n",
    "fig, ax = plt.subplots(figsize=(12, 6))\n",
    "\n",
    "bar_width = 0.35\n",
    "bar_positions = range(len(classifier_names))\n",
    "\n",
    "# Plot accuracy\n",
    "ax.bar(\n",
    "    bar_positions,\n",
    "    accuracy_scores,\n",
    "    width=bar_width,\n",
    "    color='blue',\n",
    "    alpha=0.7,\n",
    "    label='Accuracy'\n",
    ")\n",
    "\n",
    "# Plot precision\n",
    "ax.bar(\n",
    "    [pos + bar_width for pos in bar_positions],\n",
    "    precision_scores,\n",
    "    width=bar_width,\n",
    "    color='orange',\n",
    "    alpha=0.7,\n",
    "    label='Precision'\n",
    ")\n",
    "\n",
    "# Add labels and title\n",
    "ax.set_xlabel('Classifiers')\n",
    "ax.set_ylabel('Scores')\n",
    "ax.set_title('Classifier Performance: Accuracy and Precision')\n",
    "ax.set_xticks([pos + bar_width / 2 for pos in bar_positions])\n",
    "ax.set_xticklabels(classifier_names)\n",
    "ax.legend()\n",
    "\n",
    "plt.show()"
   ]
  },
  {
   "cell_type": "markdown",
   "metadata": {},
   "source": [
    "## Model for 10 days ahead direction prediction"
   ]
  },
  {
   "cell_type": "markdown",
   "metadata": {},
   "source": [
    "### spliting into training and testing data"
   ]
  },
  {
   "cell_type": "code",
   "execution_count": 51,
   "metadata": {},
   "outputs": [],
   "source": [
    "y = df_feature_constructed['10_days_ahead_direction']\n",
    "X = df_feature_constructed.iloc[:,[4,5,6,7,8,9,10,11,12,13,14,15,16,17,18]]"
   ]
  },
  {
   "cell_type": "code",
   "execution_count": 52,
   "metadata": {},
   "outputs": [],
   "source": [
    "X_train, X_test, y_train, y_test = train_test_split(X, y, test_size=0.2, random_state=42)"
   ]
  },
  {
   "cell_type": "code",
   "execution_count": 53,
   "metadata": {},
   "outputs": [],
   "source": [
    "classifier_names = ['Random Forest', 'XGBoost', 'LightGBM', 'Deep Neural Network']\n",
    "accuracy_scores = []\n",
    "precision_scores = []"
   ]
  },
  {
   "cell_type": "markdown",
   "metadata": {},
   "source": [
    "### Random Forest Classifier"
   ]
  },
  {
   "cell_type": "code",
   "execution_count": 54,
   "metadata": {},
   "outputs": [],
   "source": [
    "rf_classifier = RandomForestClassifier(n_estimators=200, random_state=42,n_jobs=-1,)\n",
    "rf_classifier.fit(X_train, y_train)\n",
    "predictions = rf_classifier.predict(X_test)"
   ]
  },
  {
   "cell_type": "code",
   "execution_count": 55,
   "metadata": {},
   "outputs": [
    {
     "name": "stdout",
     "output_type": "stream",
     "text": [
      "Confusion Matrix:\n",
      "[[139  33]\n",
      " [ 29  93]]\n",
      "\n",
      "False Positives: 33\n",
      "False Negatives: 29\n",
      "\n",
      "Classification Report:\n",
      "              precision    recall  f1-score   support\n",
      "\n",
      "           0       0.83      0.81      0.82       172\n",
      "           1       0.74      0.76      0.75       122\n",
      "\n",
      "    accuracy                           0.79       294\n",
      "   macro avg       0.78      0.79      0.78       294\n",
      "weighted avg       0.79      0.79      0.79       294\n",
      "\n"
     ]
    }
   ],
   "source": [
    "rf_accuracy = accuracy_score(y_test, predictions)\n",
    "\n",
    "conf_matrix = confusion_matrix(y_test, predictions)\n",
    "\n",
    "tn, fp, fn, tp = conf_matrix.ravel()\n",
    "rf_recall = tp / (tp + fn)\n",
    "\n",
    "# Print the results\n",
    "print(\"Confusion Matrix:\")\n",
    "print(conf_matrix)\n",
    "print(\"\\nFalse Positives:\", fp)\n",
    "print(\"False Negatives:\", fn)\n",
    "\n",
    "accuracy_scores.append(rf_accuracy)\n",
    "precision_scores.append(rf_recall)\n",
    "print(\"\\nClassification Report:\")\n",
    "print(classification_report(y_test, predictions))"
   ]
  },
  {
   "cell_type": "markdown",
   "metadata": {},
   "source": [
    "### XGBoost Classifier"
   ]
  },
  {
   "cell_type": "code",
   "execution_count": 56,
   "metadata": {},
   "outputs": [],
   "source": [
    "# Create an XGBoost classifier\n",
    "xgb_classifier = XGBClassifier(booster='gbtree',device='gpu',objective='binary:logistic',\n",
    "                                   random_state=42,n_estimators = 800,validate_parameters=True,eta=0.2,max_depth=0)\n",
    "\n",
    "# Train the classifier on the training data\n",
    "xgb_classifier.fit(X_train, y_train)\n",
    "\n",
    "# Make predictions on the test data\n",
    "predictions = xgb_classifier.predict(X_test)"
   ]
  },
  {
   "cell_type": "code",
   "execution_count": 57,
   "metadata": {},
   "outputs": [
    {
     "name": "stdout",
     "output_type": "stream",
     "text": [
      "Confusion Matrix:\n",
      "[[136  36]\n",
      " [ 27  95]]\n",
      "\n",
      "False Positives: 36\n",
      "False Negatives: 27\n",
      "\n",
      "Classification Report:\n",
      "              precision    recall  f1-score   support\n",
      "\n",
      "           0       0.83      0.79      0.81       172\n",
      "           1       0.73      0.78      0.75       122\n",
      "\n",
      "    accuracy                           0.79       294\n",
      "   macro avg       0.78      0.78      0.78       294\n",
      "weighted avg       0.79      0.79      0.79       294\n",
      "\n"
     ]
    }
   ],
   "source": [
    "# Evaluate the accuracy of the model\n",
    "xgb_accuracy = accuracy_score(y_test, predictions)\n",
    "\n",
    "# Assuming 'y_test' is the true labels and 'predictions' are the predicted labels\n",
    "conf_matrix = confusion_matrix(y_test, predictions)\n",
    "\n",
    "# Extract values from the confusion matrix\n",
    "tn, fp, fn, tp = conf_matrix.ravel()\n",
    "\n",
    "# Calculate recall\n",
    "xgb_recall = tp / (tp + fn)\n",
    "\n",
    "# Print the results\n",
    "print(\"Confusion Matrix:\")\n",
    "print(conf_matrix)\n",
    "print(\"\\nFalse Positives:\", fp)\n",
    "print(\"False Negatives:\", fn)\n",
    "\n",
    "accuracy_scores.append(xgb_accuracy)\n",
    "precision_scores.append(xgb_recall)\n",
    "# Additional information using classification report\n",
    "print(\"\\nClassification Report:\")\n",
    "print(classification_report(y_test, predictions))"
   ]
  },
  {
   "cell_type": "code",
   "execution_count": 58,
   "metadata": {},
   "outputs": [
    {
     "data": {
      "image/png": "[encoded data removed]",
      "text/plain": [
       "<Figure size 640x480 with 1 Axes>"
      ]
     },
     "metadata": {},
     "output_type": "display_data"
    }
   ],
   "source": [
    "xgb.plot_importance(xgb_classifier, importance_type='weight', max_num_features=10)\n",
    "plt.show()"
   ]
  },
  {
   "cell_type": "markdown",
   "metadata": {},
   "source": [
    "### LightGBM classifier"
   ]
  },
  {
   "cell_type": "code",
   "execution_count": 59,
   "metadata": {},
   "outputs": [
    {
     "name": "stdout",
     "output_type": "stream",
     "text": [
      "[LightGBM] [Info] Number of positive: 545, number of negative: 629\n",
      "[LightGBM] [Info] Total Bins 3825\n",
      "[LightGBM] [Info] Number of data points in the train set: 1174, number of used features: 15\n",
      "[LightGBM] [Info] [binary:BoostFromScore]: pavg=0.464225 -> initscore=-0.143345\n",
      "[LightGBM] [Info] Start training from score -0.143345\n"
     ]
    }
   ],
   "source": [
    "# Convert the data to LightGBM Dataset format\n",
    "train_data = lgb.Dataset(X_train, label=y_train)\n",
    "test_data = lgb.Dataset(X_test, label=y_test, reference=train_data)\n",
    "\n",
    "# Set hyperparameters for LightGBM\n",
    "params = {\n",
    "    'objective': 'binary',\n",
    "    'metric': 'binary_error',\n",
    "    'boosting_type': 'gbrt',\n",
    "    'tree_learner':'voting',\n",
    "    'num_leaves': 35,\n",
    "    'learning_rate': 0.2,\n",
    "    'feature_fraction': 0.8,\n",
    "    'seed':'100',\n",
    "    'force_col_wise':'true'\n",
    "}\n",
    "\n",
    "# Train the LightGBM model\n",
    "num_round = 200\n",
    "lgb_model = lgb.train(params, train_data, num_round, valid_sets=[test_data])\n",
    "\n",
    "# Make predictions on the test data\n",
    "predictions = lgb_model.predict(X_test, num_iteration=lgb_model.best_iteration)\n",
    "predictions_binary = (predictions > 0.5).astype(int)"
   ]
  },
  {
   "cell_type": "code",
   "execution_count": 60,
   "metadata": {},
   "outputs": [
    {
     "name": "stdout",
     "output_type": "stream",
     "text": [
      "\n",
      "Confusion Matrix:\n",
      "Confusion Matrix:\n",
      "[[139  33]\n",
      " [ 31  91]]\n",
      "\n",
      "False Positives: 33\n",
      "False Negatives: 31\n",
      "\n",
      "Classification Report:\n",
      "              precision    recall  f1-score   support\n",
      "\n",
      "           0       0.82      0.81      0.81       172\n",
      "           1       0.73      0.75      0.74       122\n",
      "\n",
      "    accuracy                           0.78       294\n",
      "   macro avg       0.78      0.78      0.78       294\n",
      "weighted avg       0.78      0.78      0.78       294\n",
      "\n"
     ]
    }
   ],
   "source": [
    "# Evaluate the accuracy of the model\n",
    "gbm_accuracy = accuracy_score(y_test, predictions_binary)\n",
    "\n",
    "# Print confusion matrix and classification report\n",
    "print(\"\\nConfusion Matrix:\")\n",
    "conf_matrix = confusion_matrix(y_test, predictions_binary)\n",
    "\n",
    "# Extract values from the confusion matrix\n",
    "tn, fp, fn, tp = conf_matrix.ravel()\n",
    "\n",
    "# Calculate recall\n",
    "gbm_recall = tp / (tp + fn)\n",
    "\n",
    "# Print the results\n",
    "print(\"Confusion Matrix:\")\n",
    "print(conf_matrix)\n",
    "print(\"\\nFalse Positives:\", fp)\n",
    "print(\"False Negatives:\", fn)\n",
    "\n",
    "accuracy_scores.append(gbm_accuracy)\n",
    "precision_scores.append(gbm_recall)\n",
    "# Additional information using classification report\n",
    "print(\"\\nClassification Report:\")\n",
    "print(classification_report(y_test, predictions_binary))"
   ]
  },
  {
   "cell_type": "markdown",
   "metadata": {},
   "source": [
    "### Deep Neural Network"
   ]
  },
  {
   "cell_type": "code",
   "execution_count": 61,
   "metadata": {},
   "outputs": [
    {
     "name": "stdout",
     "output_type": "stream",
     "text": [
      "Epoch 1/10\n",
      "33/33 [==============================] - 2s 35ms/step - loss: 32.4500 - accuracy: 0.5019 - val_loss: 30.2386 - val_accuracy: 0.4661\n",
      "Epoch 2/10\n",
      "33/33 [==============================] - 1s 22ms/step - loss: 37.0774 - accuracy: 0.4962 - val_loss: 14.3935 - val_accuracy: 0.4661\n",
      "Epoch 3/10\n",
      "33/33 [==============================] - 1s 22ms/step - loss: 16.7348 - accuracy: 0.5000 - val_loss: 13.1676 - val_accuracy: 0.4746\n",
      "Epoch 4/10\n",
      "33/33 [==============================] - 1s 39ms/step - loss: 19.4637 - accuracy: 0.4811 - val_loss: 7.8721 - val_accuracy: 0.5169\n",
      "Epoch 5/10\n",
      "33/33 [==============================] - 1s 24ms/step - loss: 5.4491 - accuracy: 0.5085 - val_loss: 16.4356 - val_accuracy: 0.5339\n",
      "Epoch 6/10\n",
      "33/33 [==============================] - 1s 18ms/step - loss: 7.3959 - accuracy: 0.5038 - val_loss: 5.8307 - val_accuracy: 0.5339\n",
      "Epoch 7/10\n",
      "33/33 [==============================] - 1s 20ms/step - loss: 15.5287 - accuracy: 0.4953 - val_loss: 7.6853 - val_accuracy: 0.5339\n",
      "Epoch 8/10\n",
      "33/33 [==============================] - 1s 19ms/step - loss: 7.7897 - accuracy: 0.5189 - val_loss: 20.1815 - val_accuracy: 0.4661\n",
      "Epoch 9/10\n",
      "33/33 [==============================] - 1s 19ms/step - loss: 12.1429 - accuracy: 0.4962 - val_loss: 4.3297 - val_accuracy: 0.5254\n",
      "Epoch 10/10\n",
      "33/33 [==============================] - 1s 20ms/step - loss: 9.2627 - accuracy: 0.5009 - val_loss: 7.4360 - val_accuracy: 0.4661\n"
     ]
    },
    {
     "data": {
      "text/plain": [
       "<keras.src.callbacks.History at 0x2dff86fe0>"
      ]
     },
     "execution_count": 61,
     "metadata": {},
     "output_type": "execute_result"
    }
   ],
   "source": [
    "# Create a neural network model\n",
    "model = Sequential()\n",
    "model.add(Dense(64, input_dim=X_train.shape[1], activation='relu'))\n",
    "model.add(Dense(128,activation='relu'))\n",
    "model.add(Dense(128,activation='relu'))\n",
    "model.add(Dense(64,activation='relu'))\n",
    "model.add(Dense(1, activation='sigmoid'))\n",
    "\n",
    "# Compile the model\n",
    "model.compile(optimizer='adam', loss='binary_crossentropy', metrics=['accuracy'])\n",
    "\n",
    "# Train the model on the training data\n",
    "model.fit(X_train, y_train, epochs=10, batch_size=32, validation_split=0.1)"
   ]
  },
  {
   "cell_type": "code",
   "execution_count": 62,
   "metadata": {},
   "outputs": [
    {
     "name": "stdout",
     "output_type": "stream",
     "text": [
      "10/10 [==============================] - 0s 5ms/step\n",
      "\n",
      "Confusion Matrix:\n",
      "Confusion Matrix:\n",
      "[[  0 172]\n",
      " [  0 122]]\n",
      "\n",
      "False Positives: 172\n",
      "False Negatives: 0\n",
      "Recall (Sensitivity): 1.0\n",
      "\n",
      "Classification Report:\n",
      "              precision    recall  f1-score   support\n",
      "\n",
      "           0       0.00      0.00      0.00       172\n",
      "           1       0.41      1.00      0.59       122\n",
      "\n",
      "    accuracy                           0.41       294\n",
      "   macro avg       0.21      0.50      0.29       294\n",
      "weighted avg       0.17      0.41      0.24       294\n",
      "\n"
     ]
    }
   ],
   "source": [
    "# Make predictions on the test data\n",
    "predictions = model.predict(X_test)\n",
    "predictions = (predictions > 0.5).astype(int)\n",
    "\n",
    "# Evaluate the accuracy of the model\n",
    "dl_accuracy = accuracy_score(y_test, predictions)\n",
    "\n",
    "# Print confusion matrix and classification report\n",
    "print(\"\\nConfusion Matrix:\")\n",
    "conf_matrix = confusion_matrix(y_test, predictions)\n",
    "\n",
    "tn, fp, fn, tp = conf_matrix.ravel()\n",
    "\n",
    "# Calculate recall\n",
    "dl_recall = tp / (tp + fn)\n",
    "\n",
    "# Print the results\n",
    "print(\"Confusion Matrix:\")\n",
    "print(conf_matrix)\n",
    "print(\"\\nFalse Positives:\", fp)\n",
    "print(\"False Negatives:\", fn)\n",
    "print(\"Recall (Sensitivity):\", dl_recall)\n",
    "\n",
    "accuracy_scores.append(dl_accuracy)\n",
    "precision_scores.append(dl_recall)\n",
    "# Additional information using classification report\n",
    "print(\"\\nClassification Report:\")\n",
    "print(classification_report(y_test, predictions))"
   ]
  },
  {
   "cell_type": "markdown",
   "metadata": {},
   "source": [
    "### Model Comparision "
   ]
  },
  {
   "cell_type": "code",
   "execution_count": 63,
   "metadata": {},
   "outputs": [
    {
     "data": {
      "image/png": "[encoded data removed]",
      "text/plain": [
       "<Figure size 1200x600 with 1 Axes>"
      ]
     },
     "metadata": {},
     "output_type": "display_data"
    }
   ],
   "source": [
    "sns.set(style=\"whitegrid\")\n",
    "fig, ax = plt.subplots(figsize=(12, 6))\n",
    "\n",
    "bar_width = 0.35\n",
    "bar_positions = range(len(classifier_names))\n",
    "\n",
    "# Plot accuracy\n",
    "ax.bar(\n",
    "    bar_positions,\n",
    "    accuracy_scores,\n",
    "    width=bar_width,\n",
    "    color='blue',\n",
    "    alpha=0.7,\n",
    "    label='Accuracy'\n",
    ")\n",
    "\n",
    "# Plot precision\n",
    "ax.bar(\n",
    "    [pos + bar_width for pos in bar_positions],\n",
    "    precision_scores,\n",
    "    width=bar_width,\n",
    "    color='orange',\n",
    "    alpha=0.7,\n",
    "    label='Precision'\n",
    ")\n",
    "\n",
    "# Add labels and title\n",
    "ax.set_xlabel('Classifiers')\n",
    "ax.set_ylabel('Scores')\n",
    "ax.set_title('Classifier Performance: Accuracy and Precision')\n",
    "ax.set_xticks([pos + bar_width / 2 for pos in bar_positions])\n",
    "ax.set_xticklabels(classifier_names)\n",
    "ax.legend()\n",
    "\n",
    "plt.show()"
   ]
  },
  {
   "cell_type": "code",
   "execution_count": null,
   "metadata": {},
   "outputs": [],
   "source": []
  },
  {
   "cell_type": "code",
   "execution_count": null,
   "metadata": {},
   "outputs": [],
   "source": []
  }
 ],
 "metadata": {
  "kernelspec": {
   "display_name": "Python 3 (ipykernel)",
   "language": "python",
   "name": "python3"
  },
  "language_info": {
   "codemirror_mode": {
    "name": "ipython",
    "version": 3
   },
   "file_extension": ".py",
   "mimetype": "text/x-python",
   "name": "python",
   "nbconvert_exporter": "python",
   "pygments_lexer": "ipython3",
   "version": "3.10.12"
  }
 },
 "nbformat": 4,
 "nbformat_minor": 5
}
